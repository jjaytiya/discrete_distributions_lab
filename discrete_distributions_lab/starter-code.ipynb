{
 "cells": [
  {
   "cell_type": "code",
   "execution_count": 223,
   "metadata": {},
   "outputs": [],
   "source": [
    "# Import data\n",
    "import numpy as np\n",
    "import matplotlib.pyplot as plt\n",
    "from scipy import stats\n",
    "import statsmodels.api as sm"
   ]
  },
  {
   "cell_type": "code",
   "execution_count": 179,
   "metadata": {},
   "outputs": [],
   "source": [
    "\n",
    "# Definitions for this lab...\n",
    "\n",
    "# PMF - (Probability Mass Function) - Discrete distribution function returning the probability \n",
    "# that a random variable equals a SPECIFIC value\n",
    "\n",
    "# CDF - (Cumulative Distribution Function) - Probability that a random variable is less than or equal \n",
    "# to a given value\n",
    "\n",
    "     # Discrete - As a step function (plt.step). It increases at each possible value of the random variable\n",
    "     # Continuous - It's the integral of the PDF from negative infinity to the given value\n",
    "\n",
    "# PDF - (Probability Density Function) - Continuous distribution function returning the relative \n",
    "# likelihood of a random variable taking on a given value."
   ]
  },
  {
   "cell_type": "markdown",
   "metadata": {},
   "source": [
    "# \"Fun with Loot Boxes\" Lab\n",
    "\n",
    "> Author: Caroline Schmitt, Matt Brems\n",
    "\n",
    "### Scenario:\n",
    "\n",
    "You're an analyst for [Zynga](https://en.wikipedia.org/wiki/Zynga), a gaming studio working on an event for an MMO (massively multiplayer online) game. This event is going to include **loot boxes**.\n",
    "\n",
    "<img src=\"https://vignette.wikia.nocookie.net/2007scape/images/0/06/Culinaromancer%27s_chest.png/revision/latest?cb=20180403231423\" alt=\"drawing\" width=\"150\"/> \n",
    "\n",
    "A loot box is basically a treasure chest in a game. This loot box can be opened to reveal a variety of items: some items are very rare and valuable, other items are common and less valuable. (You may consult [the esteemed Wikipedia](https://en.wikipedia.org/wiki/Loot_box) for a more extensive definition.)\n",
    "\n",
    "In our specific game, suppose that loot boxes can be obtained in one of two ways: \n",
    "- After every three hours of playing the game, a user will earn one loot box.\n",
    "- If the user wishes to purchase a loot box, they may pay $1 (in real money!) for a loot box.\n",
    "\n",
    "These loot boxes are very good for our business!\n",
    "- If a player earns a loot box, it means they are spending lots of time on the game. This often leads to advertisement revenue, they may tell their friends to join the game, etc.\n",
    "- If the player purchases a loot box, it means we've earned $1 from our customer.\n",
    "\n",
    "Suppose each loot box is opened to reveal either:\n",
    "- magical elixir (super rare, very valuable), or\n",
    "- nothing.\n",
    "\n",
    "Whether each loot box contains the elixir or nothing is **random**. Our boss wants some guidance on what sort of randomness to use on these loot boxes! \n",
    "- If the magical elixir is too rare, then users may not be motivated to try to get them, because they believe they'll never find the magical elixir.\n",
    "- If the magical elixir is too common, then users may not be motivated to try to get them, because the game has so much of the magical elixir that it isn't worthwhile to try to get it.\n",
    "\n",
    "However, our boss isn't a math-y type person! When explaining things to our boss, we need to explain the impact of our choices on the game as concretely as possible.\n",
    "\n",
    "### Version 1\n",
    "In our first version of the game, we'll say that loot boxes contain magical elixir 15% of the time and nothing 85% of the time.\n",
    "\n",
    "#### 1. Our boss asks, \"If a user buys 100 loot boxes, how many elixirs will they get?\" How would you respond?"
   ]
  },
  {
   "cell_type": "code",
   "execution_count": 173,
   "metadata": {},
   "outputs": [],
   "source": [
    "# Answer:\n",
    "\n",
    "# We can't gurantee how many elixirs one person would get. \n",
    "\n",
    "# It's possible, though unlikely, that a player who is very lucky gets 100 elixirs out of 100 loot boxes. \n",
    "\n",
    "# It's also possible, though unlikely, that a player who is very unlucky gets none. \n",
    "\n",
    "# The expected value is 15 BUT that does not in any way mean every player gets 15 out of every 100 boxes."
   ]
  },
  {
   "cell_type": "code",
   "execution_count": 181,
   "metadata": {},
   "outputs": [
    {
     "name": "stdout",
     "output_type": "stream",
     "text": [
      "Expected number of elixirs from 100 loot boxes: 15.0\n"
     ]
    }
   ],
   "source": [
    "# Expected Value (EV) is the average outcome of an event if repeated many times\n",
    "# It's calculated by multiplying each possible outcome by it's probability and summing\n",
    "# these products together.\n",
    "\n",
    "# EV helps predict long-term results in situation involving chance.\n",
    "\n",
    "def calculate_elixir_ev (elixir_probability, num_boxes):\n",
    "    return elixir_probability * num_boxes\n",
    "\n",
    "# Game parameters :\n",
    "elixir_prob = 0.15 # 15 chance of getting an elixir\n",
    "nothing_prob = 0.85 # 85 chance of not getting an elixir\n",
    "num_loot_boxes = 100\n",
    "\n",
    "expected_elixirs= calculate_elixir_ev (elixir_prob,num_loot_boxes)\n",
    "print (f'Expected number of elixirs from {num_loot_boxes} loot boxes: {expected_elixirs}')"
   ]
  },
  {
   "cell_type": "code",
   "execution_count": null,
   "metadata": {},
   "outputs": [],
   "source": [
    "# EV and probability differ in that:\n",
    "\n",
    "# Probability measures the likelihood of a specific outcome occurring, expressed as a number\n",
    "# between 0 and 1 ot as a percentage.\n",
    "\n",
    "# EV quantifies the average result over namy trials, often expresses in unit (items, dollars,unit)"
   ]
  },
  {
   "cell_type": "markdown",
   "metadata": {},
   "source": [
    "#### 2. Our boss asks, \"How many loot boxes does someone have to purchase in order to definitely get elixir?\" How would you respond?"
   ]
  },
  {
   "cell_type": "markdown",
   "metadata": {},
   "source": [
    "__Answer:__\n",
    "\n",
    "Someone could theoretically purchase an infinite of loot boxes and never get and elixir.\n",
    "We can't garantee how many loot boxes one would need to purchase until they find an elixir.\n",
    "\n",
    "__BUT__, if each box has a 15% chance of obtaining an elixir, regardless of previus loot box purchases or openings, \n",
    "then, ON AVERAGE, a user would need to open about 7 loot boxed to get an elixir. \n",
    "BUT, again, this is just an average. Some users will need fewer loot boxes to get an elixir and some will need more.\n",
    "\n",
    "The actual number for any given user can vary widely due to the RANDOM nature of the process."
   ]
  },
  {
   "cell_type": "code",
   "execution_count": null,
   "metadata": {},
   "outputs": [],
   "source": [
    "# Answer: Someone could theoretically purchase an infinite of loot boxes and never get and elixir.\n",
    "# We can't garantee how many loot boxes one would need to purchase until they find an elixir.\n",
    "\n",
    "# BUT, if each box has a 15% chance of obtaining an elixir, regardless of previus loot box purchases or openings, then, ON AVERAGE, a user would need to open about \n",
    "# 7 loot boxed to get an elixir. BUT, again, this is just an average. Some users will need fewer \n",
    "# loot boxes to get an elixir and some will need more. The actual number for any given user can vary\n",
    "# widely due to the RANDOM nature of the process."
   ]
  },
  {
   "cell_type": "markdown",
   "metadata": {},
   "source": [
    "#### 3. Our boss asks, \"If a user earns 100 loot boxes, what is the chance that a user gets more than 20 elixirs?\" This is a bit more complicated, so let's break it down before answering."
   ]
  },
  {
   "cell_type": "markdown",
   "metadata": {},
   "source": [
    "#### 3a. Let's suppose my random variable $X$ counts up how many elixirs I observe out of my 100 loot boxes. Why is $X$ a discrete random variable?"
   ]
  },
  {
   "cell_type": "code",
   "execution_count": null,
   "metadata": {},
   "outputs": [],
   "source": [
    "# Discret Random Variable - countable number of outcomes; distinct\n",
    "\n",
    "# Continuous Random Variable - uncountable number of outcomes\n",
    "\n",
    "# X if discrete, can take on 1, 2, 3, 4, 5, etc. These are countable.\n",
    "# We can't 2.5 loot boxes; we can't 3.7 loot boxes."
   ]
  },
  {
   "cell_type": "markdown",
   "metadata": {},
   "source": [
    "#### 3b. Recall our discrete distributions: discrete uniform, Bernoulli, binomial, Poisson. Let's suppose my random variable $X$ counts up how many elixirs I observe out of my 100 loot boxes. What distribution is best suited for $X$? Why?\n",
    "- Hint: It may help to consider getting the magical elixir a \"success\" and getting nothing a \"failure.\"\n"
   ]
  },
  {
   "cell_type": "code",
   "execution_count": 19,
   "metadata": {},
   "outputs": [],
   "source": [
    "# - Two outcomes: elixirs (success) or no elixir (failure)\n",
    "# Discrete Uniform - each outcome is equally likely\n",
    "# Boernoulli - number of successes in one trial. But we have 100 trials here...\n",
    "# Binomial in n number of trials\n",
    "# Poission - binomial + time \n",
    "\n",
    "# Winner = Binomial"
   ]
  },
  {
   "cell_type": "code",
   "execution_count": 185,
   "metadata": {},
   "outputs": [
    {
     "name": "stdout",
     "output_type": "stream",
     "text": [
      "The probability of getting more than 20 elixirs from 100 loot boxes is 0.0663\n"
     ]
    }
   ],
   "source": [
    "#If a user earns 100 loot boxes, what is the chance that a user gets more than 20 elixirs?\n",
    "def culculate_elixir_probability ():\n",
    "    return sum(stats.binom.pmf(x, n = 100, p = 0.15) for x in range (21,101))\n",
    "\n",
    "result = culculate_elixir_probability()\n",
    "print (f'The probability of getting more than 20 elixirs from 100 loot boxes is {result:.4f}')"
   ]
  },
  {
   "cell_type": "markdown",
   "metadata": {},
   "source": [
    "#### 3c. Our boss asks, \"If a user earns 100 loot boxes, what is the chance that a user gets more than 20 elixirs?\" Use the probability mass function to answer the boss' question."
   ]
  },
  {
   "cell_type": "code",
   "execution_count": null,
   "metadata": {},
   "outputs": [],
   "source": [
    "# PMF method\n",
    "# PMF : Probability Mass Function - Discrete distribution function returning the probability \n",
    "# that a random variables equals a SPECIFIC values\n",
    "\n",
    "# Summation \n",
    "# For loop - why? range of values"
   ]
  },
  {
   "cell_type": "code",
   "execution_count": 25,
   "metadata": {},
   "outputs": [
    {
     "name": "stdout",
     "output_type": "stream",
     "text": [
      "0.06631976581888205\n"
     ]
    }
   ],
   "source": [
    "# Best\n",
    "from scipy import stats\n",
    "\n",
    "\n",
    "p = 0.15 # Probability of success (getting elixir)\n",
    "n = 100 # Number of trials (loot boxes)\n",
    "\n",
    "X = stats.binom(n,p) # X is the binomial distribution\n",
    "\n",
    "P = 1 #Counter - Set initial P\n",
    "\n",
    "for x in range (20+1): #Loop the range of number\n",
    "    P = P - X.pmf(x) # iterate x\n",
    "\n",
    "# Running a for loop to subtract probability of getting x elixirs where x is in 0,1,2,....,20\n",
    "\n",
    "print (P)"
   ]
  },
  {
   "cell_type": "markdown",
   "metadata": {},
   "source": [
    "#### 3d. Our boss asks, \"If a user earns 100 loot boxes, what is the chance that a user gets more than 20 elixirs?\" Use the cumulative distribution function to answer the boss' question."
   ]
  },
  {
   "cell_type": "code",
   "execution_count": 187,
   "metadata": {},
   "outputs": [
    {
     "name": "stdout",
     "output_type": "stream",
     "text": [
      "Probability of getting more than 20 elixirs: 0.0663\n"
     ]
    }
   ],
   "source": [
    "# Used the CDF\n",
    "# CDF : Cumulative Distriburtion Function - Probability that a random variable is less than or equal to given value\n",
    "# Discrete - As a step function (plt.step.) In increases at each possible value of the random variable\n",
    "\n",
    "print (f'Probability of getting more than 20 elixirs: {1-stats.binom.cdf(20,100,0.15):.4f}')"
   ]
  },
  {
   "cell_type": "code",
   "execution_count": 189,
   "metadata": {},
   "outputs": [
    {
     "name": "stdout",
     "output_type": "stream",
     "text": [
      "Probability of getting more than 20 elixirs: 6.63%\n"
     ]
    }
   ],
   "source": [
    "# OR... Formatting into '%' for easier reading and interpreting.\n",
    "print (f'Probability of getting more than 20 elixirs: {(1-stats.binom.cdf(20,100,0.15))*100:.2f}%')"
   ]
  },
  {
   "cell_type": "markdown",
   "metadata": {},
   "source": [
    "#### 3e. Our boss asks, \"If a user earns 100 loot boxes, what is the chance that a user gets more than 20 elixirs?\" Answer your boss' question. *Remember that your boss is not a math-y person!*"
   ]
  },
  {
   "cell_type": "code",
   "execution_count": 191,
   "metadata": {},
   "outputs": [
    {
     "data": {
      "text/plain": [
       "1650.0"
      ]
     },
     "execution_count": 191,
     "metadata": {},
     "output_type": "execute_result"
    }
   ],
   "source": [
    "# If a user were to earn or buy 100 loot boxes, there's about a ~6.6% chance that they get more than 20 elixirs.\n",
    "\n",
    "# Suppose there are 25,000 active users currently. If all 25,000 users earned 100 loot boxes, \n",
    "# then we expact about 1,650 of those users to get more 20 elixirs.\n",
    "25_000 * 0.066"
   ]
  },
  {
   "cell_type": "markdown",
   "metadata": {},
   "source": [
    "#### 4. Your boss wants to know how many people purchased how many loot boxes last month. \n",
    "> For example, last month, 70% of users did not purchase any loot boxes. 10% of people purchased one loot box. 5% of people purchased two loot boxes... and so on.\n",
    "\n",
    "#### 4a. Recall our discrete distributions: discrete uniform, Bernoulli, binomial, Poisson. Let's suppose my random variable $Y$ counts up how many loot boxes each person purchased through the game last month. What distribution is best suited for $Y$? Why?"
   ]
  },
  {
   "cell_type": "code",
   "execution_count": 58,
   "metadata": {},
   "outputs": [],
   "source": [
    "# Poisson distribution - models the number of successes we observe in a fixed amount of time, not a fixed amount of trials.\n",
    "\n",
    "# The Poisson distribution is often used to model count data, expecially when the events are relatively rare\n",
    "# and can occur any number of times within the given interval (last month).\n",
    "# It's flexible enough to handle the varying probabilities we see in the data, unlike the discrete uniform or binomial distributions."
   ]
  },
  {
   "cell_type": "markdown",
   "metadata": {},
   "source": [
    "#### 4b. Suppose that, on average, your customers purchased 2.7 loot boxes last month. In order for your revenue to be at least $500,000, at least how many users would you need on your platform? (Round your answer up to the nearest thousand.) "
   ]
  },
  {
   "cell_type": "code",
   "execution_count": 193,
   "metadata": {},
   "outputs": [
    {
     "data": {
      "text/plain": [
       "185185.18518518517"
      ]
     },
     "execution_count": 193,
     "metadata": {},
     "output_type": "execute_result"
    }
   ],
   "source": [
    "# Poisson\n",
    "\n",
    "revenue = 500_000\n",
    "avg_purchase = 2.7\n",
    "\n",
    "# revenue / avg_purchase = number of users needed.\n",
    "revenue / avg_purchase"
   ]
  },
  {
   "cell_type": "code",
   "execution_count": 195,
   "metadata": {},
   "outputs": [
    {
     "name": "stdout",
     "output_type": "stream",
     "text": [
      "Number of users needed: 185,186\n"
     ]
    }
   ],
   "source": [
    "# // is Floor division\n",
    "result = int(revenue // avg_purchase + 1)\n",
    "print (f'Number of users needed: {result:,}')"
   ]
  },
  {
   "cell_type": "code",
   "execution_count": 84,
   "metadata": {},
   "outputs": [
    {
     "data": {
      "text/plain": [
       "185186"
      ]
     },
     "execution_count": 84,
     "metadata": {},
     "output_type": "execute_result"
    }
   ],
   "source": [
    "import math\n",
    "math.ceil(revenue / avg_purchase)"
   ]
  },
  {
   "cell_type": "code",
   "execution_count": 203,
   "metadata": {},
   "outputs": [],
   "source": [
    "# (Round your answer up to the nearest thousand.)\n",
    "# Rounding to 186,000\n",
    "\n",
    "# round will round down effectively BUT how shall we round UP?\n",
    "#round((revenue / avg_purchase), -3)"
   ]
  },
  {
   "cell_type": "code",
   "execution_count": 199,
   "metadata": {},
   "outputs": [
    {
     "data": {
      "text/plain": [
       "186000"
      ]
     },
     "execution_count": 199,
     "metadata": {},
     "output_type": "execute_result"
    }
   ],
   "source": [
    "# Orr's approach\n",
    "math.ceil(int(revenue/avg_purchase)/1000)*1000  # 186000"
   ]
  },
  {
   "cell_type": "code",
   "execution_count": 205,
   "metadata": {},
   "outputs": [
    {
     "data": {
      "text/plain": [
       "186000"
      ]
     },
     "execution_count": 205,
     "metadata": {},
     "output_type": "execute_result"
    }
   ],
   "source": [
    "\n",
    "math.floor((revenue/avg_purchase + 999) / 1000) * 1000"
   ]
  },
  {
   "cell_type": "markdown",
   "metadata": {},
   "source": [
    "#### 4c. Assume that your platform has the number of users you mentioned in your last answer. Suppose that your platform calls anyone who purchases 5 or more loot boxes in a month a \"high value user.\" How much money do you expect to have earned from \"high value users?\" How about \"low value users?\""
   ]
  },
  {
   "cell_type": "code",
   "execution_count": 133,
   "metadata": {},
   "outputs": [],
   "source": [
    "# Set our total purchase amount to be 0 \n",
    "amount = 0\n",
    "# Check values from 0 - 4\n",
    "\n",
    "        # How many users perchase y loot boxes?\n",
    "                # Assume 186,000\n",
    "\n",
    "        # How much money would we make from those people? (dollar amount * number of individual)\n",
    "                # (1* 2.7) \n",
    "\n",
    "        # Add in the above quantity to amount\n",
    "                # 2.7 * 186000\n",
    "\n",
    "# How much we expect to make from people buying 4 or fewer loot boxes (low value users)\n",
    "        # Money expect to earn from high value users is $143,360\n",
    "\n",
    "# How much we expect to make from people buying at least 5 loot boxeds (high value users)\n",
    "        # Money expect to earn from low value users is $358,895"
   ]
  },
  {
   "cell_type": "code",
   "execution_count": 213,
   "metadata": {},
   "outputs": [
    {
     "name": "stdout",
     "output_type": "stream",
     "text": [
      "Money expect to earn from high value users is $143,639\n",
      "Money expect to earn from low value users is $359,230\n"
     ]
    }
   ],
   "source": [
    "##### Jay, Kel, and Cha-aim\n",
    "\n",
    "roundup = 186_000\n",
    "outcomes = np.random.poisson(avg_purchase,int(roundup)) # Use poisson, when events occur independently and an event occurring in an interval.\n",
    "high_value_users = [item for item in outcomes if item>=5] # Users who purchase >=5 items\n",
    "total_high_value_users =sum(high_value_users) # Get expected money earned from high value users\n",
    "\n",
    "low_value_users = sum(outcomes) - total_high_value_users \n",
    "total_low_value_users = low_value_users * 1\n",
    "\n",
    "print(f'Money expect to earn from high value users is ${total_high_value_users:,}')\n",
    "print(f'Money expect to earn from low value users is ${total_low_value_users:,}')"
   ]
  },
  {
   "cell_type": "code",
   "execution_count": 207,
   "metadata": {},
   "outputs": [
    {
     "name": "stdout",
     "output_type": "stream",
     "text": [
      "Number of low value users: 148,001\n",
      "Number of high value users: 37,999\n",
      "Expected revenue from low value users: $358,618\n",
      "Expected revenue from high value users: $143,582\n",
      "Total expected revenue: $502,200\n"
     ]
    }
   ],
   "source": [
    "#Fan via discussion...\n",
    "no_customer = 186_000\n",
    "ro = 2.7 # rate of occur\n",
    "customers_distribution = stats.poisson(ro)\n",
    "\n",
    "low_value_users = round(sum(customers_distribution.pmf(k) for k in range(1, 5))*no_customer)\n",
    "high_value_users = no_customer - low_value_users\n",
    "\n",
    "# Calculate expected purchases for low and high value users\n",
    "expected_purchases_low = sum(k * customers_distribution.pmf(k) for k in range(1, 5)) / sum(customers_distribution.pmf(k) for k in range(1, 5))\n",
    "expected_purchases_high = (ro * no_customer - expected_purchases_low * low_value_users) / high_value_users\n",
    "#print(expected_purchases_low)\n",
    "#print(expected_purchases_high)\n",
    "\n",
    "low_value_revenue = round(low_value_users * expected_purchases_low)\n",
    "high_value_revenue = round(high_value_users * expected_purchases_high)\n",
    "#print(low_value_revenue)\n",
    "#print(high_value_revenue)\n",
    "\n",
    "print(f'Number of low value users: {low_value_users:,}')\n",
    "print(f'Number of high value users: {high_value_users:,}')\n",
    "print(f'Expected revenue from low value users: ${low_value_revenue:,}')\n",
    "print(f'Expected revenue from high value users: ${high_value_revenue:,}')\n",
    "print(f'Total expected revenue: ${low_value_revenue + high_value_revenue:,}')\n",
    "\n",
    "# print(f'Least number of money that expect from high value users : {high_value_users * 5}')\n",
    "# #print(f'Most Number of money that expect from low value users : {low_value_users * 4}')"
   ]
  },
  {
   "cell_type": "markdown",
   "metadata": {},
   "source": [
    "#### 4d. Suppose that you want to summarize how many people purchased how many loot boxes last month for your boss. Since your boss isn't math-y, what are 2-4 summary numbers you might use to summarize this for your boss? (Your answers will vary here - use your judgment!)"
   ]
  },
  {
   "cell_type": "code",
   "execution_count": 215,
   "metadata": {},
   "outputs": [
    {
     "data": {
      "text/plain": [
       "502869"
      ]
     },
     "execution_count": 215,
     "metadata": {},
     "output_type": "execute_result"
    }
   ],
   "source": [
    "sum (outcomes)"
   ]
  },
  {
   "cell_type": "code",
   "execution_count": 217,
   "metadata": {},
   "outputs": [
    {
     "data": {
      "text/plain": [
       "143639"
      ]
     },
     "execution_count": 217,
     "metadata": {},
     "output_type": "execute_result"
    }
   ],
   "source": [
    "sum (high_value_users)"
   ]
  },
  {
   "cell_type": "code",
   "execution_count": 219,
   "metadata": {},
   "outputs": [
    {
     "data": {
      "text/plain": [
       "28.56390033984994"
      ]
     },
     "execution_count": 219,
     "metadata": {},
     "output_type": "execute_result"
    }
   ],
   "source": [
    "sum (high_value_users)/sum (outcomes)*100 # %of high value users"
   ]
  },
  {
   "cell_type": "markdown",
   "metadata": {},
   "source": [
    "#### 5. Your boss asks \"How many loot boxes does it take before someone gets their first elixir?\" Using `np.random.choice`, simulate how many loot boxes it takes somone to get their first elixir. \n",
    "- Start an empty list.\n",
    "- Use control flow to have someone open loot boxes repeatedly.\n",
    "- Once they open a loot box containing an elixir, record the number of loot boxes it took in the empty list.\n",
    "- Repeat this process 100,000 times. \n",
    "\n",
    "This simulates how long it takes for someone to open a loot box containing elixir. Share the 5th, 25th, 50th, 75th, and 95th percentiles.\n",
    "\n",
    "> You may find [this documentation](https://docs.scipy.org/doc/numpy/reference/generated/numpy.random.choice.html)  and [this documentation](https://docs.scipy.org/doc/numpy/reference/generated/numpy.percentile.html) helpful."
   ]
  },
  {
   "cell_type": "code",
   "execution_count": 230,
   "metadata": {},
   "outputs": [],
   "source": [
    "# Set random seed for reproducibility\n",
    "np.random.seed(42)\n",
    "\n",
    "# Create empty list to collect how many turns until an elixir is found\n",
    "times_until_elixir = []\n",
    "\n",
    "# Possible outcomes from opening a loot box\n",
    "loot_box = ['elixir', 'nothing']\n",
    "\n",
    "# Loop through 100_000 loot box openings (experiment)\n",
    "for i in range(100_000):\n",
    "    turns = 0\n",
    "\n",
    "    # Opening of a loot box\n",
    "    while True:\n",
    "        opened_loot_box = np.random.choice(loot_box, p = [0.15, 0.85])\n",
    "        \n",
    "        turns += 1\n",
    "        \n",
    "        # If we find an elixir, add turns to the empty list called `times_until_elixir`\n",
    "        if opened_loot_box == 'elixir':\n",
    "            times_until_elixir.append(turns)\n",
    "            break"
   ]
  },
  {
   "cell_type": "code",
   "execution_count": 229,
   "metadata": {},
   "outputs": [
    {
     "name": "stdout",
     "output_type": "stream",
     "text": [
      "The 5th percentile of number of turns to find an elixir is 1.\n",
      "The 25th percentile of number of turns to find an elixir is 2.\n",
      "The 50th percentile of number of turns to find an elixir is 5.\n",
      "The 75th percentile of number of turns to find an elixir is 9.\n",
      "The 95th percentile of number of turns to find an elixir is 19.\n"
     ]
    }
   ],
   "source": [
    "# Share the 5th, 25th, 50th, 75th, and 95th percentiles.\n",
    "print(f\"The 5th percentile of number of turns to find an elixir is {int(np.percentile(times_until_elixir, 5))}.\")\n",
    "print(f\"The 25th percentile of number of turns to find an elixir is {int(np.percentile(times_until_elixir, 25))}.\")\n",
    "print(f\"The 50th percentile of number of turns to find an elixir is {int(np.percentile(times_until_elixir, 50))}.\")\n",
    "print(f\"The 75th percentile of number of turns to find an elixir is {int(np.percentile(times_until_elixir, 75))}.\")\n",
    "print(f\"The 95th percentile of number of turns to find an elixir is {int(np.percentile(times_until_elixir, 95))}.\")"
   ]
  },
  {
   "cell_type": "markdown",
   "metadata": {},
   "source": [
    "### Version 2\n",
    "\n",
    "After a substantial update to the game, suppose every loot box can be opened to reveal *one of four different* items:\n",
    "- magical elixir (occurs 1% of the time, most valuable)\n",
    "- golden pendant (occurs 9% of the time, valuable)\n",
    "- steel armor (occurs 30% of the time, semi-valuable)\n",
    "- bronze coin (occurs 60% of the time, least valuable)"
   ]
  },
  {
   "cell_type": "markdown",
   "metadata": {},
   "source": [
    "#### 6. Suppose you want repeat problem 5 above, but do that for the version 2 loot boxes so you can track how many loot boxes are needed to get each item? (e.g. You'd like to be able to say that on average it takes 10 trials to get a golden pendant, 3 trials to get steel armor, and so on.) What Python datatype is the best way to store this data? Why?"
   ]
  },
  {
   "cell_type": "code",
   "execution_count": null,
   "metadata": {},
   "outputs": [],
   "source": [
    "# Answer\n",
    "\n",
    "# Dictionary - as we can recall the item which represent the key and always paired up with the value.\n",
    "# Each key could be the name of the new items (magical elixir, bronze coin, etc.)\n",
    "# Each value being the probability might be an option"
   ]
  },
  {
   "cell_type": "markdown",
   "metadata": {},
   "source": [
    "#### 7. Suppose you and your boss want to measure whether \"Version 2\" is better than \"Version 1.\" What metrics do you think are important to measure? (Your answers will vary here - use your judgment!)"
   ]
  },
  {
   "cell_type": "code",
   "execution_count": null,
   "metadata": {},
   "outputs": [],
   "source": [
    "# Revenue: Track overall revenue generated by users in V2 vs. V1 from loot box purchasing.\n",
    "\n",
    "# Conversion rate : As we want to ensure there is more interest of purchasing the loot boxes. \n",
    "\n",
    "# Purchasing by items : Track items purchased in each items and identify whether the new items can help boost up the chance that user buys.\n",
    "\n",
    "# ARPU (Average Revenue Per User) : Monitor after adding the new items can help in turning low user values to 'high value user'.\n",
    "\n",
    "# Screen time : This help to identify whether the users enjoy playing a game longer as they got new items added."
   ]
  }
 ],
 "metadata": {
  "kernelspec": {
   "display_name": "Python 3 (ipykernel)",
   "language": "python",
   "name": "python3"
  },
  "language_info": {
   "codemirror_mode": {
    "name": "ipython",
    "version": 3
   },
   "file_extension": ".py",
   "mimetype": "text/x-python",
   "name": "python",
   "nbconvert_exporter": "python",
   "pygments_lexer": "ipython3",
   "version": "3.12.4"
  }
 },
 "nbformat": 4,
 "nbformat_minor": 4
}
